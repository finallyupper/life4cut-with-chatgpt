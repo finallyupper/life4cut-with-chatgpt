{
  "nbformat": 4,
  "nbformat_minor": 0,
  "metadata": {
    "colab": {
      "provenance": []
    },
    "kernelspec": {
      "name": "python3",
      "display_name": "Python 3"
    },
    "language_info": {
      "name": "python"
    }
  },
  "cells": [
    {
      "cell_type": "code",
      "execution_count": null,
      "metadata": {
        "id": "IzKyPgc2de7H"
      },
      "outputs": [],
      "source": [
        "import cv2\n",
        "import numpy as np\n",
        "\n",
        "def save_combine_images_vertically(images, padding=10, gap=10):\n",
        "    if len(images) != 4:\n",
        "        print(\"이미지가 4장이 아닙니다.\")\n",
        "        return None\n",
        "\n",
        "    # 각 이미지의 크기를 구합니다\n",
        "    height,  width, _ = images[0].shape\n",
        "\n",
        "    # 패딩이 적용된 이미지 크기\n",
        "    padded_height = height + 2 * padding\n",
        "    padded_width = width + 2 * padding\n",
        "\n",
        "    # 세로로 결합할 때 전체 높이를 계산합니다 (간격 포함)\n",
        "    combined_height = padded_height * 4 + gap * 3\n",
        "\n",
        "    # 빈 이미지(검은색 배경)를 만듭니다\n",
        "    combined_image = np.zeros((combined_height, padded_width, 3), dtype=np.uint8)\n",
        "\n",
        "    # 이미지를 배치할 때 패딩과 간격을 적용합니다\n",
        "    for i in range(4):\n",
        "        y_offset = i * (padded_height + gap)\n",
        "        combined_image[y_offset + padding:y_offset + padding + height, padding:padding + width] = images[i]\n",
        "\n",
        "    cv2.imwrite('/content/combine_images_vertically.jpg', combined_image)\n",
        "    print('성공적으로 이미지를 저장했습니다!')\n",
        "    return combined_image\n",
        "\n",
        "def load_images(image_paths):\n",
        "    images = []\n",
        "    for path in image_paths:\n",
        "        img = cv2.imread(path)\n",
        "        if img is not None:\n",
        "            images.append(img)\n",
        "        else:\n",
        "            print(f\"이미지를 불러올 수 없습니다: {path}\")\n",
        "    return images\n",
        "\n",
        "def main():\n",
        "    image_paths = ['photo_1.jpg', 'photo_2.jpg', 'photo_3.jpg', 'photo_4.jpg']\n",
        "    images = load_images(image_paths)\n",
        "\n",
        "    if len(images) == 4:\n",
        "        combined_image = save_combine_images_vertically(images)\n",
        "        if combined_image is not None:\n",
        "            display(Image('/content/combine_images_vertically.jpg'))\n",
        "\n",
        "if __name__ == \"__main__\":\n",
        "    main()\n"
      ]
    }
  ]
}