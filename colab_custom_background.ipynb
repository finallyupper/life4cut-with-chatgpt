{
 "cells": [
  {
   "cell_type": "code",
   "execution_count": null,
   "metadata": {},
   "outputs": [],
   "source": [
    "# 라이브러리를 불러옵니다.\n",
    "\n",
    "import cv2\n",
    "import numpy as np"
   ]
  },
  {
   "cell_type": "code",
   "execution_count": null,
   "metadata": {},
   "outputs": [],
   "source": [
    "def load_and_modify_image(file_path):\n",
    "    # 이미지 파일을 불러옵니다\n",
    "    combined_image = cv2.imread(file_path)\n",
    "\n",
    "    if combined_image is None:\n",
    "        print(f\"{file_path} 파일을 읽을 수 없습니다.\")\n",
    "        return\n",
    "\n",
    "    # 검정색 배경을 흰색으로 변경합니다\n",
    "    combined_image[np.where((combined_image == [0,0,0]).all(axis=2))] = [255, 255, 255]\n",
    "\n",
    "    return combined_image\n"
   ]
  },
  {
   "cell_type": "code",
   "execution_count": null,
   "metadata": {},
   "outputs": [],
   "source": [
    "def main():\n",
    "    # 저장된 결합된 이미지 파일 경로\n",
    "    file_path = '/content/combined_image_vertical.jpg'\n",
    "\n",
    "    # 이미지를 불러와서 수정합니다\n",
    "    modified_image = load_and_modify_image(file_path)\n",
    "\n",
    "    if modified_image is not None:\n",
    "        # 수정된 이미지를 저장합니다 (예를 들어, 'modified_image.jpg'로 저장)\n",
    "        cv2.imwrite('modified_background.jpg', modified_image)\n",
    "        print(\"수정된 이미지를 'modified_image.jpg'로 저장했습니다.\")\n",
    "        \n",
    "        # 수정된 이미지를 표시합니다\n",
    "        cv2.imshow('Modified Image', modified_image)\n",
    "        cv2.waitKey(0)\n",
    "        cv2.destroyAllWindows()\n",
    "\n",
    "if __name__ == \"__main__\":\n",
    "    main()"
   ]
  }
 ],
 "metadata": {
  "language_info": {
   "name": "python"
  }
 },
 "nbformat": 4,
 "nbformat_minor": 2
}
